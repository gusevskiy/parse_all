{
 "cells": [
  {
   "cell_type": "code",
   "execution_count": 1,
   "metadata": {},
   "outputs": [],
   "source": [
    "import requests\n",
    "from bs4 import BeautifulSoup as bs\n",
    "import pandas as pd"
   ]
  },
  {
   "cell_type": "code",
   "execution_count": 2,
   "metadata": {},
   "outputs": [],
   "source": [
    "ex = pd.read_excel(\"C:\\\\robots\\\\parsing_for_office\\\\parsing_for_office\\\\link.xlsx\")\n",
    "list_link = ex[\"link\"].dropna()\n",
    "# print(list_link)"
   ]
  },
  {
   "cell_type": "code",
   "execution_count": 3,
   "metadata": {},
   "outputs": [],
   "source": [
    "link_list = ['http://zaborynn.ru',\n",
    "             'http://help-house52.ru',\n",
    "             'http://chastdom-sk.ru']"
   ]
  },
  {
   "cell_type": "code",
   "execution_count": 4,
   "metadata": {},
   "outputs": [],
   "source": [
    "headers={'User-Agent': 'Mozilla/5.0 (Windows NT 10.0; Win64; x64) AppleWebKit/537.36 (KHTML, like Gecko) Chrome/118.0.0.0 Safari/537.36'}"
   ]
  },
  {
   "cell_type": "code",
   "execution_count": 6,
   "metadata": {},
   "outputs": [
    {
     "name": "stderr",
     "output_type": "stream",
     "text": [
      "C:\\Users\\VGGusevsky\\AppData\\Local\\Temp\\ipykernel_5700\\3995724681.py:14: DeprecationWarning: The 'text' argument to find()-type methods is deprecated. Use 'string' instead.\n",
      "  con = soup.find(text='Контакты').parent\n"
     ]
    }
   ],
   "source": [
    "link_contact = []\n",
    "link_not_200 = []\n",
    "not_link = []\n",
    "with open(\n",
    "    \"C:\\\\robots\\\\parsing_for_office\\\\parsing_for_office\\\\link.txt\", \"w\"\n",
    ") as file:\n",
    "    for link in list_link:\n",
    "        try:\n",
    "            status = requests.get(\n",
    "                link, headers=headers, timeout=1\n",
    "            ).status_code\n",
    "            if status == 200:\n",
    "                soup = bs(requests.get(link).content)\n",
    "                con = soup.find(text='Контакты').parent\n",
    "                if 'http' in con['href']:\n",
    "                    # link_contact.append(con['href'])\n",
    "                    file.write(con['href'] + '\\n')\n",
    "                else:\n",
    "                    # link_contact.append(link + con['href'])\n",
    "                    file.write(link + '/' + con['href'] + '\\n')\n",
    "            else:\n",
    "                link_not_200.append([link, status])\n",
    "        except:\n",
    "            not_link.append(link)"
   ]
  },
  {
   "cell_type": "code",
   "execution_count": 8,
   "metadata": {},
   "outputs": [
    {
     "data": {
      "text/plain": [
       "[['http://debutnn.ru', 404],\n",
       " ['http://nost-nn.ru', 500],\n",
       " ['https://vk.com/artel_fasad', 404]]"
      ]
     },
     "execution_count": 8,
     "metadata": {},
     "output_type": "execute_result"
    }
   ],
   "source": [
    "link_not_200"
   ]
  }
 ],
 "metadata": {
  "kernelspec": {
   "display_name": "venv",
   "language": "python",
   "name": "python3"
  },
  "language_info": {
   "codemirror_mode": {
    "name": "ipython",
    "version": 3
   },
   "file_extension": ".py",
   "mimetype": "text/x-python",
   "name": "python",
   "nbconvert_exporter": "python",
   "pygments_lexer": "ipython3",
   "version": "3.10.11"
  }
 },
 "nbformat": 4,
 "nbformat_minor": 2
}
